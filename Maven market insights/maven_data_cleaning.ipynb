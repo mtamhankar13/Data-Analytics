{
 "cells": [
  {
   "cell_type": "code",
   "execution_count": 17,
   "id": "de13ce9f-0a95-4c18-8ea9-236b727cdd88",
   "metadata": {},
   "outputs": [],
   "source": [
    "import pandas as pd"
   ]
  },
  {
   "cell_type": "code",
   "execution_count": 24,
   "id": "9e4c5d50-267c-4c65-ae49-bde166463cac",
   "metadata": {},
   "outputs": [],
   "source": [
    "df1 = pd.read_csv(r\"C:\\Users\\Sanket Ketkar\\Desktop\\market\\MavenMarket_Transactions_1998.csv\")"
   ]
  },
  {
   "cell_type": "code",
   "execution_count": 26,
   "id": "c96ddb0a-b16a-4164-b1eb-375201a46651",
   "metadata": {},
   "outputs": [
    {
     "data": {
      "text/plain": [
       "dtype('O')"
      ]
     },
     "execution_count": 26,
     "metadata": {},
     "output_type": "execute_result"
    }
   ],
   "source": [
    "df1[\"transaction_date\"].dtype"
   ]
  },
  {
   "cell_type": "code",
   "execution_count": 28,
   "id": "3ff8120e-e05e-41cd-95be-c765c8dc1c0a",
   "metadata": {},
   "outputs": [
    {
     "name": "stdout",
     "output_type": "stream",
     "text": [
      "Empty DataFrame\n",
      "Columns: [transaction_date, stock_date, product_id, customer_id, store_id, quantity]\n",
      "Index: []\n"
     ]
    }
   ],
   "source": [
    "def custom_date_parser(date_str):\n",
    "    for fmt in (\"%m/%d/%Y\", \"%m-%d-%Y\"):\n",
    "        try:\n",
    "            return pd.to_datetime(date_str, format=fmt)\n",
    "        except ValueError:\n",
    "            continue\n",
    "    return pd.NaT  \n",
    "df1['transaction_date'] = df1['transaction_date'].apply(custom_date_parser)\n",
    "# Find erroneous date records (rows where `valid_date` is NaT)\n",
    "invalid_dates = df1[df1['transaction_date'].isna()]\n",
    "\n",
    "print(invalid_dates)"
   ]
  },
  {
   "cell_type": "code",
   "execution_count": 30,
   "id": "cc6c9bbd-6e61-4dc8-9d79-0b2f82158ace",
   "metadata": {},
   "outputs": [
    {
     "data": {
      "text/html": [
       "<div>\n",
       "<style scoped>\n",
       "    .dataframe tbody tr th:only-of-type {\n",
       "        vertical-align: middle;\n",
       "    }\n",
       "\n",
       "    .dataframe tbody tr th {\n",
       "        vertical-align: top;\n",
       "    }\n",
       "\n",
       "    .dataframe thead th {\n",
       "        text-align: right;\n",
       "    }\n",
       "</style>\n",
       "<table border=\"1\" class=\"dataframe\">\n",
       "  <thead>\n",
       "    <tr style=\"text-align: right;\">\n",
       "      <th></th>\n",
       "      <th>transaction_date</th>\n",
       "      <th>stock_date</th>\n",
       "      <th>product_id</th>\n",
       "      <th>customer_id</th>\n",
       "      <th>store_id</th>\n",
       "      <th>quantity</th>\n",
       "    </tr>\n",
       "  </thead>\n",
       "  <tbody>\n",
       "  </tbody>\n",
       "</table>\n",
       "</div>"
      ],
      "text/plain": [
       "Empty DataFrame\n",
       "Columns: [transaction_date, stock_date, product_id, customer_id, store_id, quantity]\n",
       "Index: []"
      ]
     },
     "execution_count": 30,
     "metadata": {},
     "output_type": "execute_result"
    }
   ],
   "source": [
    "df1[df1['transaction_date'].isna()]"
   ]
  },
  {
   "cell_type": "code",
   "execution_count": 32,
   "id": "0615dc03-1a59-4581-949a-5df0e7ea44bf",
   "metadata": {},
   "outputs": [],
   "source": [
    "df1.to_csv('MavenMarket_Transactions_1998_6.csv', index=False)"
   ]
  },
  {
   "cell_type": "code",
   "execution_count": 34,
   "id": "599625e1-9cbc-41d4-8df7-d1adf430ec93",
   "metadata": {},
   "outputs": [],
   "source": [
    "df2 = pd.read_csv(r\"C:\\Users\\Sanket Ketkar\\Desktop\\market\\MavenMarket_Transactions_1997.csv\")"
   ]
  },
  {
   "cell_type": "code",
   "execution_count": 36,
   "id": "f89b48a4-5f6a-4258-99fe-7ffdf3baa5bc",
   "metadata": {},
   "outputs": [
    {
     "data": {
      "text/plain": [
       "dtype('O')"
      ]
     },
     "execution_count": 36,
     "metadata": {},
     "output_type": "execute_result"
    }
   ],
   "source": [
    "df2[\"transaction_date\"].dtype"
   ]
  },
  {
   "cell_type": "code",
   "execution_count": 38,
   "id": "a91f8413-99ec-4cab-8a16-ccaae5819b77",
   "metadata": {},
   "outputs": [
    {
     "name": "stdout",
     "output_type": "stream",
     "text": [
      "Empty DataFrame\n",
      "Columns: [transaction_date, stock_date, product_id, customer_id, store_id, quantity]\n",
      "Index: []\n"
     ]
    }
   ],
   "source": [
    "def custom_date_parser_1997(date_str):\n",
    "    for fmt in (\"%m/%d/%Y\", \"%m-%d-%Y\"):\n",
    "        try:\n",
    "            return pd.to_datetime(date_str, format=fmt)\n",
    "        except ValueError:\n",
    "            continue\n",
    "    return pd.NaT  \n",
    "df2['transaction_date'] = df2['transaction_date'].apply(custom_date_parser_1997)\n",
    "# Find erroneous date records (rows where `valid_date` is NaT)\n",
    "invalid_dates = df2[df2['transaction_date'].isna()]\n",
    "\n",
    "print(invalid_dates)"
   ]
  },
  {
   "cell_type": "code",
   "execution_count": 40,
   "id": "f874765c-25a6-442b-ada8-fcc4da7fcca4",
   "metadata": {},
   "outputs": [
    {
     "data": {
      "text/html": [
       "<div>\n",
       "<style scoped>\n",
       "    .dataframe tbody tr th:only-of-type {\n",
       "        vertical-align: middle;\n",
       "    }\n",
       "\n",
       "    .dataframe tbody tr th {\n",
       "        vertical-align: top;\n",
       "    }\n",
       "\n",
       "    .dataframe thead th {\n",
       "        text-align: right;\n",
       "    }\n",
       "</style>\n",
       "<table border=\"1\" class=\"dataframe\">\n",
       "  <thead>\n",
       "    <tr style=\"text-align: right;\">\n",
       "      <th></th>\n",
       "      <th>transaction_date</th>\n",
       "      <th>stock_date</th>\n",
       "      <th>product_id</th>\n",
       "      <th>customer_id</th>\n",
       "      <th>store_id</th>\n",
       "      <th>quantity</th>\n",
       "    </tr>\n",
       "  </thead>\n",
       "  <tbody>\n",
       "  </tbody>\n",
       "</table>\n",
       "</div>"
      ],
      "text/plain": [
       "Empty DataFrame\n",
       "Columns: [transaction_date, stock_date, product_id, customer_id, store_id, quantity]\n",
       "Index: []"
      ]
     },
     "execution_count": 40,
     "metadata": {},
     "output_type": "execute_result"
    }
   ],
   "source": [
    "df2[df2['transaction_date'].isna()]"
   ]
  },
  {
   "cell_type": "code",
   "execution_count": 42,
   "id": "0e678f96-541b-4af0-9a49-742c466397a8",
   "metadata": {},
   "outputs": [],
   "source": [
    "df2.to_csv('MavenMarket_Transactions_1997_3.csv', index=False)"
   ]
  },
  {
   "cell_type": "code",
   "execution_count": 44,
   "id": "4862b7e5-c867-4717-8dc1-339642504500",
   "metadata": {},
   "outputs": [],
   "source": [
    "df_combined = pd.concat([df1, df2], ignore_index=True)"
   ]
  },
  {
   "cell_type": "code",
   "execution_count": 46,
   "id": "c00f1cc7-a119-4bad-b357-c76dece980a0",
   "metadata": {},
   "outputs": [],
   "source": [
    "df_combined.to_csv(\"transaction.csv\", index=False)"
   ]
  },
  {
   "cell_type": "code",
   "execution_count": null,
   "id": "13d8b5ac-0a2c-4d16-ae0a-9061af05cc84",
   "metadata": {},
   "outputs": [],
   "source": []
  }
 ],
 "metadata": {
  "kernelspec": {
   "display_name": "Python [conda env:mansi]",
   "language": "python",
   "name": "conda-env-mansi-py"
  },
  "language_info": {
   "codemirror_mode": {
    "name": "ipython",
    "version": 3
   },
   "file_extension": ".py",
   "mimetype": "text/x-python",
   "name": "python",
   "nbconvert_exporter": "python",
   "pygments_lexer": "ipython3",
   "version": "3.12.9"
  }
 },
 "nbformat": 4,
 "nbformat_minor": 5
}
